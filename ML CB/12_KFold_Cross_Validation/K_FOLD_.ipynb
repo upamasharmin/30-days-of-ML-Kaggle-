{
  "nbformat": 4,
  "nbformat_minor": 0,
  "metadata": {
    "colab": {
      "name": "K- FOLD .ipynb",
      "provenance": []
    },
    "kernelspec": {
      "name": "python3",
      "display_name": "Python 3"
    },
    "language_info": {
      "name": "python"
    }
  },
  "cells": [
    {
      "cell_type": "code",
      "execution_count": 1,
      "metadata": {
        "id": "QXjMblh4cP3u"
      },
      "outputs": [],
      "source": [
        "from sklearn.linear_model import LogisticRegression\n",
        "from sklearn.svm import SVC\n",
        "from sklearn.ensemble import RandomForestClassifier\n",
        "import numpy as np\n",
        "from sklearn.datasets import load_digits\n",
        "import matplotlib.pyplot as plt\n",
        "digits = load_digits()"
      ]
    },
    {
      "cell_type": "code",
      "source": [
        "from sklearn.model_selection import train_test_split\n",
        "X_train, X_test, y_train, y_test = train_test_split(digits.data,digits.target,test_size=0.3)"
      ],
      "metadata": {
        "id": "4aT2N6UCfr_N"
      },
      "execution_count": 2,
      "outputs": []
    },
    {
      "cell_type": "markdown",
      "source": [
        ""
      ],
      "metadata": {
        "id": "2wnqKvycnOeo"
      }
    },
    {
      "cell_type": "markdown",
      "source": [
        "Logistic regression "
      ],
      "metadata": {
        "id": "MNFgIGHDgjtx"
      }
    },
    {
      "cell_type": "code",
      "source": [
        "lr = LogisticRegression(solver='liblinear',multi_class='ovr')\n",
        "lr.fit(X_train, y_train)\n",
        "lr.score(X_test, y_test)"
      ],
      "metadata": {
        "colab": {
          "base_uri": "https://localhost:8080/"
        },
        "id": "hg9TdIy5gkOg",
        "outputId": "c0deba93-dad9-4f9b-b457-c50af3f56735"
      },
      "execution_count": 3,
      "outputs": [
        {
          "output_type": "execute_result",
          "data": {
            "text/plain": [
              "0.9555555555555556"
            ]
          },
          "metadata": {},
          "execution_count": 3
        }
      ]
    },
    {
      "cell_type": "code",
      "source": [
        ""
      ],
      "metadata": {
        "id": "zhh_M9Zem8Q4"
      },
      "execution_count": 3,
      "outputs": []
    },
    {
      "cell_type": "markdown",
      "source": [
        "SVM"
      ],
      "metadata": {
        "id": "j7jpD5ZPnWMH"
      }
    },
    {
      "cell_type": "code",
      "source": [
        "svm = SVC(gamma='auto')\n",
        "svm.fit(X_train, y_train)\n",
        "svm.score(X_test, y_test)"
      ],
      "metadata": {
        "colab": {
          "base_uri": "https://localhost:8080/"
        },
        "id": "ZUhRYIOQnX0V",
        "outputId": "114f923d-33cb-4e9f-e30a-71cc6c7668ea"
      },
      "execution_count": 4,
      "outputs": [
        {
          "output_type": "execute_result",
          "data": {
            "text/plain": [
              "0.5092592592592593"
            ]
          },
          "metadata": {},
          "execution_count": 4
        }
      ]
    },
    {
      "cell_type": "code",
      "source": [
        ""
      ],
      "metadata": {
        "id": "sdw98a9QnmbU"
      },
      "execution_count": 4,
      "outputs": []
    },
    {
      "cell_type": "markdown",
      "source": [
        "Random Forest"
      ],
      "metadata": {
        "id": "ywU3zhC7nqrg"
      }
    },
    {
      "cell_type": "code",
      "source": [
        "rf= RandomForestClassifier(n_estimators=40)\n",
        "rf.fit(X_train, y_train)\n",
        "rf.score(X_test, y_test)"
      ],
      "metadata": {
        "colab": {
          "base_uri": "https://localhost:8080/"
        },
        "id": "qZjUpg2ensBg",
        "outputId": "63790015-0bb5-47d3-ef6c-3fdaca79758a"
      },
      "execution_count": 5,
      "outputs": [
        {
          "output_type": "execute_result",
          "data": {
            "text/plain": [
              "0.9777777777777777"
            ]
          },
          "metadata": {},
          "execution_count": 5
        }
      ]
    },
    {
      "cell_type": "markdown",
      "source": [
        "KFold cross validation"
      ],
      "metadata": {
        "id": "1Bb0h_qGo7In"
      }
    },
    {
      "cell_type": "code",
      "source": [
        "from sklearn.model_selection import KFold\n",
        "kf= KFold(n_splits=3)\n",
        "kf"
      ],
      "metadata": {
        "colab": {
          "base_uri": "https://localhost:8080/"
        },
        "id": "Hl2W9V27o80G",
        "outputId": "72cf2153-3dd3-4e4a-8eed-0a1c24357046"
      },
      "execution_count": 6,
      "outputs": [
        {
          "output_type": "execute_result",
          "data": {
            "text/plain": [
              "KFold(n_splits=3, random_state=None, shuffle=False)"
            ]
          },
          "metadata": {},
          "execution_count": 6
        }
      ]
    },
    {
      "cell_type": "code",
      "source": [
        "for train_index,test_index in kf.split([1,2,3,4,5,6,7,8,9]):\n",
        "  print(train_index,test_index)"
      ],
      "metadata": {
        "colab": {
          "base_uri": "https://localhost:8080/"
        },
        "id": "T7_9da7YLHTc",
        "outputId": "e89d0396-b7ef-4c94-8f2f-08fa10dc1ac8"
      },
      "execution_count": 7,
      "outputs": [
        {
          "output_type": "stream",
          "name": "stdout",
          "text": [
            "[3 4 5 6 7 8] [0 1 2]\n",
            "[0 1 2 6 7 8] [3 4 5]\n",
            "[0 1 2 3 4 5] [6 7 8]\n"
          ]
        }
      ]
    },
    {
      "cell_type": "markdown",
      "source": [
        "Use KFold for our digits example"
      ],
      "metadata": {
        "id": "CNVJLZDiNXdd"
      }
    },
    {
      "cell_type": "code",
      "source": [
        "def get_score(model,X_train,X_test,y_train,y_test):\n",
        "  model.fit(X_train,y_train)\n",
        "  return model.score(X_test,y_test)"
      ],
      "metadata": {
        "id": "7kzBNA7TNerH"
      },
      "execution_count": 8,
      "outputs": []
    },
    {
      "cell_type": "code",
      "source": [
        "from sklearn.model_selection import StratifiedKFold\n",
        "folds = StratifiedKFold(n_splits =3)\n",
        "scores_logistic=[]\n",
        "scores_svm =[]\n",
        "scores_rf=[]\n",
        "for train_index,test_index in folds.split(digits.data, digits.target):\n",
        "      X_train, X_test, y_train, y_test=digits.data[train_index],digits.data[test_index],digits.target[train_index],digits.target[test_index]\n",
        "      scores_logistic.append(get_score(LogisticRegression(solver='liblinear',multi_class='ovr'),X_train,X_test,y_train,y_test))\n",
        "      scores_svm.append(get_score(SVC(gamma='auto'),X_train,X_test,y_train,y_test))\n",
        "      scores_rf.append(get_score(RandomForestClassifier(n_estimators=40),X_train,X_test,y_train,y_test))\n"
      ],
      "metadata": {
        "id": "1q_6nXIlO8Ph"
      },
      "execution_count": 12,
      "outputs": []
    },
    {
      "cell_type": "code",
      "source": [
        "scores_logistic"
      ],
      "metadata": {
        "colab": {
          "base_uri": "https://localhost:8080/"
        },
        "id": "0OPlpxNqZG8g",
        "outputId": "2985523c-701a-4ad1-d0a8-bcf6fd147ee1"
      },
      "execution_count": 13,
      "outputs": [
        {
          "output_type": "execute_result",
          "data": {
            "text/plain": [
              "[0.8948247078464107, 0.9532554257095158, 0.9098497495826378]"
            ]
          },
          "metadata": {},
          "execution_count": 13
        }
      ]
    },
    {
      "cell_type": "code",
      "source": [
        "  scores_svm"
      ],
      "metadata": {
        "colab": {
          "base_uri": "https://localhost:8080/"
        },
        "id": "3K5I_ClXZMcl",
        "outputId": "1f937380-0fd2-4feb-f64a-bbe3cdc84d5d"
      },
      "execution_count": 14,
      "outputs": [
        {
          "output_type": "execute_result",
          "data": {
            "text/plain": [
              "[0.3806343906510851, 0.41068447412353926, 0.5125208681135225]"
            ]
          },
          "metadata": {},
          "execution_count": 14
        }
      ]
    },
    {
      "cell_type": "code",
      "source": [
        "scores_rf"
      ],
      "metadata": {
        "colab": {
          "base_uri": "https://localhost:8080/"
        },
        "id": "Jbm8O5PvZRUU",
        "outputId": "0be8cfc8-7908-4759-cf66-5ea814e59a64"
      },
      "execution_count": 15,
      "outputs": [
        {
          "output_type": "execute_result",
          "data": {
            "text/plain": [
              "[0.9348914858096828, 0.9432387312186978, 0.9282136894824707]"
            ]
          },
          "metadata": {},
          "execution_count": 15
        }
      ]
    },
    {
      "cell_type": "markdown",
      "source": [
        "cross_val_score function"
      ],
      "metadata": {
        "id": "ykXrAdp5bb_7"
      }
    },
    {
      "cell_type": "code",
      "source": [
        "from sklearn.model_selection import cross_val_score"
      ],
      "metadata": {
        "id": "CMrwkgCNbdPZ"
      },
      "execution_count": 16,
      "outputs": []
    },
    {
      "cell_type": "markdown",
      "source": [
        "Logistic regression model performance using cross_val_score"
      ],
      "metadata": {
        "id": "2yo6WT3Dh9wA"
      }
    },
    {
      "cell_type": "code",
      "source": [
        "cross_val_score(LogisticRegression(solver='liblinear',multi_class='ovr'),digits.data,digits.target,cv=3)"
      ],
      "metadata": {
        "colab": {
          "base_uri": "https://localhost:8080/"
        },
        "id": "2xHsQ-ZUiLXm",
        "outputId": "ebe027f9-47b3-42fd-82e6-7aa595850f1d"
      },
      "execution_count": 17,
      "outputs": [
        {
          "output_type": "execute_result",
          "data": {
            "text/plain": [
              "array([0.89482471, 0.95325543, 0.90984975])"
            ]
          },
          "metadata": {},
          "execution_count": 17
        }
      ]
    },
    {
      "cell_type": "markdown",
      "source": [
        "svm model performance using cross_val_score"
      ],
      "metadata": {
        "id": "ZW3SlBhmij9y"
      }
    },
    {
      "cell_type": "code",
      "source": [
        "cross_val_score(SVC(gamma='auto'),digits.data,digits.target,cv=3)"
      ],
      "metadata": {
        "colab": {
          "base_uri": "https://localhost:8080/"
        },
        "id": "06_kFIysimmj",
        "outputId": "8f36d69a-6450-41ec-95d5-6bab87993e8b"
      },
      "execution_count": 18,
      "outputs": [
        {
          "output_type": "execute_result",
          "data": {
            "text/plain": [
              "array([0.38063439, 0.41068447, 0.51252087])"
            ]
          },
          "metadata": {},
          "execution_count": 18
        }
      ]
    },
    {
      "cell_type": "markdown",
      "source": [
        "random forest performance using cross_val_score"
      ],
      "metadata": {
        "id": "m_R4l2gAi9rB"
      }
    },
    {
      "cell_type": "code",
      "source": [
        "cross_val_score(RandomForestClassifier(n_estimators=40),digits.data, digits.target,cv=3)"
      ],
      "metadata": {
        "colab": {
          "base_uri": "https://localhost:8080/"
        },
        "id": "0LHmfQmXi_Fw",
        "outputId": "1044998b-204f-4816-b289-71f03e9377d4"
      },
      "execution_count": 22,
      "outputs": [
        {
          "output_type": "execute_result",
          "data": {
            "text/plain": [
              "array([0.92153589, 0.94156928, 0.91986644])"
            ]
          },
          "metadata": {},
          "execution_count": 22
        }
      ]
    },
    {
      "cell_type": "markdown",
      "source": [
        "Parameter tunning using k fold cross validation"
      ],
      "metadata": {
        "id": "sYhyhcoSj-kh"
      }
    },
    {
      "cell_type": "code",
      "source": [
        "scores1 = cross_val_score(RandomForestClassifier(n_estimators=5),digits.data, digits.target, cv=10)\n",
        "np.average(scores1)"
      ],
      "metadata": {
        "colab": {
          "base_uri": "https://localhost:8080/"
        },
        "id": "fUjn6LsokHBO",
        "outputId": "390d3f6d-d1b4-4623-96b1-5c1a67e37894"
      },
      "execution_count": 23,
      "outputs": [
        {
          "output_type": "execute_result",
          "data": {
            "text/plain": [
              "0.8820142768466791"
            ]
          },
          "metadata": {},
          "execution_count": 23
        }
      ]
    },
    {
      "cell_type": "code",
      "source": [
        "scores2 = cross_val_score(RandomForestClassifier(n_estimators=20),digits.data, digits.target, cv=10)\n",
        "np.average(scores2)"
      ],
      "metadata": {
        "colab": {
          "base_uri": "https://localhost:8080/"
        },
        "id": "TEHsJ7_vkMry",
        "outputId": "d825c7b0-a72a-49ac-e028-33b976eeaa41"
      },
      "execution_count": 24,
      "outputs": [
        {
          "output_type": "execute_result",
          "data": {
            "text/plain": [
              "0.9460180012414648"
            ]
          },
          "metadata": {},
          "execution_count": 24
        }
      ]
    },
    {
      "cell_type": "code",
      "source": [
        "scores3 = cross_val_score(RandomForestClassifier(n_estimators=30),digits.data, digits.target, cv=10)\n",
        "np.average(scores3)"
      ],
      "metadata": {
        "colab": {
          "base_uri": "https://localhost:8080/"
        },
        "id": "F_gy8LlRkQdO",
        "outputId": "39204d2b-f5a1-4b58-df78-b88769eab894"
      },
      "execution_count": 25,
      "outputs": [
        {
          "output_type": "execute_result",
          "data": {
            "text/plain": [
              "0.9371260086902543"
            ]
          },
          "metadata": {},
          "execution_count": 25
        }
      ]
    },
    {
      "cell_type": "code",
      "source": [
        "scores4 = cross_val_score(RandomForestClassifier(n_estimators=40),digits.data, digits.target, cv=10)\n",
        "np.average(scores4)"
      ],
      "metadata": {
        "colab": {
          "base_uri": "https://localhost:8080/"
        },
        "id": "jdREXstUkWFl",
        "outputId": "b66d6fe1-30f8-4aba-d6a7-0ed299bd4fd0"
      },
      "execution_count": 26,
      "outputs": [
        {
          "output_type": "execute_result",
          "data": {
            "text/plain": [
              "0.9432402234636872"
            ]
          },
          "metadata": {},
          "execution_count": 26
        }
      ]
    },
    {
      "cell_type": "markdown",
      "source": [
        ""
      ],
      "metadata": {
        "id": "Fl9mxXB0nptG"
      }
    }
  ]
}